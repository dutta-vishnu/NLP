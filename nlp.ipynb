{
 "cells": [
  {
   "cell_type": "code",
   "execution_count": 1,
   "metadata": {},
   "outputs": [],
   "source": [
    "import os ,sys\n",
    "sys.path.append(os.path.abspath('./env/medigence'))\n",
    "\n",
    "import manager as manager\n",
    "import pandas as pd\n",
    "import numpy as np"
   ]
  },
  {
   "cell_type": "code",
   "execution_count": null,
   "metadata": {},
   "outputs": [],
   "source": [
    "list_URLs = manager.google_search('cabg cost in india')\n",
    "\n",
    "saliance_score = 0.05\n",
    "\n",
    "for URL in list_URLs:\n",
    "\n",
    "    if '.jpg' in URL:\n",
    "\n",
    "        list_URLs.remove(URL)\n",
    "\n",
    "final_data = []\n",
    "\n",
    "for URL in list_URLs:\n",
    "\n",
    "    text = manager.get_text_from_url(URL)\n",
    "\n",
    "    json_data = manager.sample_analyze_entities(text, URL, saliance_score)\n",
    " \n",
    "    final_data.append(json_data)\n",
    "\n",
    "df = pd.DataFrame.from_dict({'name':final_data})\n",
    "\n",
    "df_final = pd.DataFrame()\n",
    "\n",
    "for i in range(len(df)):\n",
    "\n",
    "    temp_df = pd.DataFrame(df['name'][i])\n",
    "\n",
    "    if len(df_final)==0:\n",
    "\n",
    "        df_final = temp_df\n",
    "\n",
    "    else:\n",
    "\n",
    "        frames = [df_final,temp_df]\n",
    "\n",
    "        df_final = pd.concat(frames)\n",
    "\n",
    "df_final.reset_index(inplace=True, drop=True)\n",
    "\n",
    "df_final.drop_duplicates(subset=['entity_name'],keep='first',inplace=True)\n",
    "\n",
    "df_final.reset_index(inplace=True, drop=True)\n",
    "\n",
    "df_final.to_csv('OUTPUT/df.csv')"
   ]
  },
  {
   "cell_type": "code",
   "execution_count": 13,
   "metadata": {},
   "outputs": [
    {
     "name": "stderr",
     "output_type": "stream",
     "text": [
      "/home/vishnu/.local/lib/python3.8/site-packages/urllib3/connectionpool.py:1043: InsecureRequestWarning: Unverified HTTPS request is being made to host 'medigence.com'. Adding certificate verification is strongly advised. See: https://urllib3.readthedocs.io/en/1.26.x/advanced-usage.html#ssl-warnings\n",
      "  warnings.warn(\n"
     ]
    }
   ],
   "source": [
    "url = 'https://medigence.com/hospitals/cardiac-sciences/vsd-closure-repair-adult/india'\n",
    "\n",
    "saliance_score = 0\n",
    "\n",
    "text = manager.get_text_from_url(url)\n",
    "\n",
    "json_data = manager.sample_analyze_entities(text, url, saliance_score)\n",
    "\n",
    "medi = pd.DataFrame(json_data)\n",
    "\n",
    "medi.drop_duplicates(subset=['entity_name'],keep='first',inplace=True)\n",
    "\n",
    "medi.reset_index(inplace=True, drop=True)\n",
    "\n",
    "medi.to_csv('OUTPUT/medi.csv')"
   ]
  },
  {
   "cell_type": "code",
   "execution_count": null,
   "metadata": {},
   "outputs": [],
   "source": []
  }
 ],
 "metadata": {
  "kernelspec": {
   "display_name": "Python 3.8.10 64-bit",
   "language": "python",
   "name": "python3"
  },
  "language_info": {
   "codemirror_mode": {
    "name": "ipython",
    "version": 3
   },
   "file_extension": ".py",
   "mimetype": "text/x-python",
   "name": "python",
   "nbconvert_exporter": "python",
   "pygments_lexer": "ipython3",
   "version": "3.8.10"
  },
  "orig_nbformat": 4,
  "vscode": {
   "interpreter": {
    "hash": "916dbcbb3f70747c44a77c7bcd40155683ae19c65e1c03b4aa3499c5328201f1"
   }
  }
 },
 "nbformat": 4,
 "nbformat_minor": 2
}
