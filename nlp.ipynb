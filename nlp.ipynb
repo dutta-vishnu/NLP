{
 "cells": [
  {
   "cell_type": "code",
   "execution_count": 1,
   "metadata": {},
   "outputs": [],
   "source": [
    "import os ,sys\n",
    "sys.path.append(os.path.abspath('./env/medigence'))\n",
    "\n",
    "import manager as manager\n",
    "import pandas as pd\n",
    "import numpy as np"
   ]
  },
  {
   "cell_type": "code",
   "execution_count": null,
   "metadata": {},
   "outputs": [],
   "source": [
    "list_URLs = manager.google_search('cabg cost in india')\n",
    "\n",
    "saliance_score = 0.05\n",
    "\n",
    "for URL in list_URLs:\n",
    "\n",
    "    if '.jpg' in URL:\n",
    "\n",
    "        list_URLs.remove(URL)\n",
    "\n",
    "final_data = []\n",
    "\n",
    "for URL in list_URLs:\n",
    "\n",
    "    text = manager.get_text_from_url(URL)\n",
    "\n",
    "    json_data = manager.sample_analyze_entities(text, URL, saliance_score)\n",
    " \n",
    "    final_data.append(json_data)\n",
    "\n",
    "df = pd.DataFrame.from_dict({'name':final_data})\n",
    "\n",
    "df_final = pd.DataFrame()\n",
    "\n",
    "for i in range(len(df)):\n",
    "\n",
    "    temp_df = pd.DataFrame(df['name'][i])\n",
    "\n",
    "    if len(df_final)==0:\n",
    "\n",
    "        df_final = temp_df\n",
    "\n",
    "    else:\n",
    "\n",
    "        frames = [df_final,temp_df]\n",
    "\n",
    "        df_final = pd.concat(frames)\n",
    "\n",
    "df_final.reset_index(inplace=True, drop=True)\n",
    "\n",
    "df_final.drop_duplicates(subset=['entity_name'],keep='first',inplace=True)\n",
    "\n",
    "df_final.reset_index(inplace=True, drop=True)\n",
    "\n",
    "df_final.to_csv('OUTPUT/df.csv')"
   ]
  },
  {
   "cell_type": "code",
   "execution_count": 14,
   "metadata": {},
   "outputs": [
    {
     "name": "stderr",
     "output_type": "stream",
     "text": [
      "/home/vishnu/.local/lib/python3.8/site-packages/urllib3/connectionpool.py:1043: InsecureRequestWarning: Unverified HTTPS request is being made to host 'medigence.com'. Adding certificate verification is strongly advised. See: https://urllib3.readthedocs.io/en/1.26.x/advanced-usage.html#ssl-warnings\n",
      "  warnings.warn(\n"
     ]
    }
   ],
   "source": [
    "url = 'https://medigence.com/hospitals/cardiac-sciences/vsd-closure-repair-adult/india'\n",
    "\n",
    "saliance_score = 0\n",
    "\n",
    "text = manager.get_text_from_url(url)\n",
    "\n",
    "json_data = manager.sample_analyze_entities(text, url, saliance_score)\n",
    "\n",
    "medi = pd.DataFrame(json_data)\n",
    "\n",
    "medi.drop_duplicates(subset=['entity_name'],keep='first',inplace=True)\n",
    "\n",
    "medi.reset_index(inplace=True, drop=True)\n",
    "\n",
    "medi.to_csv('OUTPUT/medi.csv')"
   ]
  },
  {
   "cell_type": "code",
   "execution_count": 15,
   "metadata": {},
   "outputs": [
    {
     "data": {
      "text/html": [
       "<div>\n",
       "<style scoped>\n",
       "    .dataframe tbody tr th:only-of-type {\n",
       "        vertical-align: middle;\n",
       "    }\n",
       "\n",
       "    .dataframe tbody tr th {\n",
       "        vertical-align: top;\n",
       "    }\n",
       "\n",
       "    .dataframe thead th {\n",
       "        text-align: right;\n",
       "    }\n",
       "</style>\n",
       "<table border=\"1\" class=\"dataframe\">\n",
       "  <thead>\n",
       "    <tr style=\"text-align: right;\">\n",
       "      <th></th>\n",
       "      <th>URL</th>\n",
       "      <th>entity_name</th>\n",
       "      <th>entity_type</th>\n",
       "      <th>saliance</th>\n",
       "      <th>mentions</th>\n",
       "    </tr>\n",
       "  </thead>\n",
       "  <tbody>\n",
       "    <tr>\n",
       "      <th>0</th>\n",
       "      <td>https://medigence.com/hospitals/cardiac-scienc...</td>\n",
       "      <td>Site maintenance</td>\n",
       "      <td>OTHER</td>\n",
       "      <td>0.465993</td>\n",
       "      <td>[Site Maintenance]</td>\n",
       "    </tr>\n",
       "    <tr>\n",
       "      <th>1</th>\n",
       "      <td>https://medigence.com/hospitals/cardiac-scienc...</td>\n",
       "      <td>Medigence</td>\n",
       "      <td>OTHER</td>\n",
       "      <td>0.233808</td>\n",
       "      <td>[Medigence]</td>\n",
       "    </tr>\n",
       "    <tr>\n",
       "      <th>2</th>\n",
       "      <td>https://medigence.com/hospitals/cardiac-scienc...</td>\n",
       "      <td>eyes</td>\n",
       "      <td>OTHER</td>\n",
       "      <td>0.169837</td>\n",
       "      <td>[eyes]</td>\n",
       "    </tr>\n",
       "    <tr>\n",
       "      <th>3</th>\n",
       "      <td>https://medigence.com/hospitals/cardiac-scienc...</td>\n",
       "      <td>upgrades</td>\n",
       "      <td>OTHER</td>\n",
       "      <td>0.045546</td>\n",
       "      <td>[upgrades]</td>\n",
       "    </tr>\n",
       "    <tr>\n",
       "      <th>4</th>\n",
       "      <td>https://medigence.com/hospitals/cardiac-scienc...</td>\n",
       "      <td>inconvenience</td>\n",
       "      <td>OTHER</td>\n",
       "      <td>0.044997</td>\n",
       "      <td>[inconvenience]</td>\n",
       "    </tr>\n",
       "    <tr>\n",
       "      <th>5</th>\n",
       "      <td>https://medigence.com/hospitals/cardiac-scienc...</td>\n",
       "      <td>MediGence Team</td>\n",
       "      <td>ORGANIZATION</td>\n",
       "      <td>0.039819</td>\n",
       "      <td>[MediGence Team]</td>\n",
       "    </tr>\n",
       "  </tbody>\n",
       "</table>\n",
       "</div>"
      ],
      "text/plain": [
       "                                                 URL       entity_name  \\\n",
       "0  https://medigence.com/hospitals/cardiac-scienc...  Site maintenance   \n",
       "1  https://medigence.com/hospitals/cardiac-scienc...         Medigence   \n",
       "2  https://medigence.com/hospitals/cardiac-scienc...              eyes   \n",
       "3  https://medigence.com/hospitals/cardiac-scienc...          upgrades   \n",
       "4  https://medigence.com/hospitals/cardiac-scienc...     inconvenience   \n",
       "5  https://medigence.com/hospitals/cardiac-scienc...    MediGence Team   \n",
       "\n",
       "    entity_type  saliance            mentions  \n",
       "0         OTHER  0.465993  [Site Maintenance]  \n",
       "1         OTHER  0.233808         [Medigence]  \n",
       "2         OTHER  0.169837              [eyes]  \n",
       "3         OTHER  0.045546          [upgrades]  \n",
       "4         OTHER  0.044997     [inconvenience]  \n",
       "5  ORGANIZATION  0.039819    [MediGence Team]  "
      ]
     },
     "execution_count": 15,
     "metadata": {},
     "output_type": "execute_result"
    }
   ],
   "source": [
    "medi"
   ]
  },
  {
   "cell_type": "code",
   "execution_count": null,
   "metadata": {},
   "outputs": [],
   "source": []
  }
 ],
 "metadata": {
  "kernelspec": {
   "display_name": "Python 3.8.10 64-bit",
   "language": "python",
   "name": "python3"
  },
  "language_info": {
   "codemirror_mode": {
    "name": "ipython",
    "version": 3
   },
   "file_extension": ".py",
   "mimetype": "text/x-python",
   "name": "python",
   "nbconvert_exporter": "python",
   "pygments_lexer": "ipython3",
   "version": "3.8.10"
  },
  "orig_nbformat": 4,
  "vscode": {
   "interpreter": {
    "hash": "916dbcbb3f70747c44a77c7bcd40155683ae19c65e1c03b4aa3499c5328201f1"
   }
  }
 },
 "nbformat": 4,
 "nbformat_minor": 2
}
