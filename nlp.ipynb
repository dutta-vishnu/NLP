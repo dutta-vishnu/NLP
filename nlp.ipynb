{
 "cells": [
  {
   "cell_type": "code",
   "execution_count": 6,
   "metadata": {},
   "outputs": [],
   "source": [
    "import os ,sys\n",
    "sys.path.append(os.path.abspath('./env/medigence'))\n",
    "\n",
    "import manager as manager\n",
    "import pandas as pd"
   ]
  },
  {
   "cell_type": "code",
   "execution_count": null,
   "metadata": {},
   "outputs": [],
   "source": [
    "list_URLs = manager.google_search('cabg cost in india')\n",
    "\n",
    "for URL in list_URLs:\n",
    "\n",
    "    if '.jpg' in URL:\n",
    "\n",
    "        list_URLs.remove(URL)\n",
    "\n",
    "final_data = []\n",
    "\n",
    "for URL in list_URLs:\n",
    "\n",
    "    text = manager.get_text_from_url(URL)\n",
    "\n",
    "    json_data = manager.analyse_entity(text)\n",
    "\n",
    "    for i in range(len(json_data['entities'])):\n",
    "\n",
    "        url = URL\n",
    "\n",
    "        name = ''\n",
    "\n",
    "        salience = ''\n",
    "\n",
    "        mentions = ''\n",
    "\n",
    "        name = json_data['entities'][i]['name']\n",
    "\n",
    "        salience = json_data['entities'][i]['salience']\n",
    "\n",
    "        mentions = json_data['entities'][i]['mentions']\n",
    "\n",
    "        mentions_list = []\n",
    "\n",
    "        for mention in mentions:\n",
    "\n",
    "            content = mention['text']['content']\n",
    "\n",
    "            if content not in mentions_list:\n",
    "\n",
    "                mentions_list.append(content)\n",
    "\n",
    "        dict = {'URL':url, 'Name':name, 'Salience':salience, 'Mentions':mentions_list}\n",
    "\n",
    "        if salience >= 0.05:\n",
    "\n",
    "            final_data.append(dict)\n",
    "\n",
    "df = pd.DataFrame(final_data)\n",
    "\n",
    "# df = df.sort_values(by=['Salience'],ascending=False).reset_index(drop=True)\n",
    "\n",
    "df.drop_duplicates(subset=['Name'],keep='first',inplace=True)\n",
    "\n",
    "df.reset_index(inplace=True, drop=True)"
   ]
  },
  {
   "cell_type": "code",
   "execution_count": null,
   "metadata": {},
   "outputs": [],
   "source": [
    "df.to_csv('OUTPUT/df.csv')"
   ]
  },
  {
   "cell_type": "code",
   "execution_count": null,
   "metadata": {},
   "outputs": [],
   "source": []
  }
 ],
 "metadata": {
  "kernelspec": {
   "display_name": "Python 3.8.10 64-bit",
   "language": "python",
   "name": "python3"
  },
  "language_info": {
   "codemirror_mode": {
    "name": "ipython",
    "version": 3
   },
   "file_extension": ".py",
   "mimetype": "text/x-python",
   "name": "python",
   "nbconvert_exporter": "python",
   "pygments_lexer": "ipython3",
   "version": "3.8.10"
  },
  "orig_nbformat": 4,
  "vscode": {
   "interpreter": {
    "hash": "916dbcbb3f70747c44a77c7bcd40155683ae19c65e1c03b4aa3499c5328201f1"
   }
  }
 },
 "nbformat": 4,
 "nbformat_minor": 2
}
