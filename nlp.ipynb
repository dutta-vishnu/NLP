{
 "cells": [
  {
   "cell_type": "code",
   "execution_count": 1,
   "metadata": {},
   "outputs": [],
   "source": [
    "import os ,sys\n",
    "sys.path.append(os.path.abspath('./env/medigence'))\n",
    "\n",
    "import manager as manager"
   ]
  },
  {
   "cell_type": "code",
   "execution_count": 4,
   "metadata": {},
   "outputs": [],
   "source": [
    "cabg = manager.google_search('cabg cost in india')"
   ]
  },
  {
   "cell_type": "code",
   "execution_count": 5,
   "metadata": {},
   "outputs": [],
   "source": [
    "url = cabg[1]"
   ]
  },
  {
   "cell_type": "code",
   "execution_count": 6,
   "metadata": {},
   "outputs": [
    {
     "data": {
      "text/plain": [
       "'https://www.yashodahospitals.com/coronary-artery-bypass-grafting-cost-in-hyderabad/'"
      ]
     },
     "execution_count": 6,
     "metadata": {},
     "output_type": "execute_result"
    }
   ],
   "source": [
    "url"
   ]
  },
  {
   "cell_type": "code",
   "execution_count": 7,
   "metadata": {},
   "outputs": [
    {
     "name": "stderr",
     "output_type": "stream",
     "text": [
      "/home/vishnu/Documents/NLP/env/medigence/manager.py:72: GuessedAtParserWarning: No parser was explicitly specified, so I'm using the best available HTML parser for this system (\"lxml\"). This usually isn't a problem, but if you run this code on another system, or in a different virtual environment, it may use a different parser and behave differently.\n",
      "\n",
      "The code that caused this warning is on line 72 of the file /home/vishnu/Documents/NLP/env/medigence/manager.py. To get rid of this warning, pass the additional argument 'features=\"lxml\"' to the BeautifulSoup constructor.\n",
      "\n",
      "  soup = bs(res.content).text\n"
     ]
    }
   ],
   "source": [
    "text = manager.get_text_from_url(url)"
   ]
  },
  {
   "cell_type": "code",
   "execution_count": 9,
   "metadata": {},
   "outputs": [],
   "source": [
    "text = text.replace('\\n','').replace('\\t','')"
   ]
  },
  {
   "cell_type": "code",
   "execution_count": 11,
   "metadata": {},
   "outputs": [],
   "source": [
    "result = manager.analyse_entity(text)"
   ]
  },
  {
   "cell_type": "code",
   "execution_count": 27,
   "metadata": {},
   "outputs": [
    {
     "data": {
      "text/plain": [
       "{'name': 'Coronary Artery Bypass Grafting',\n",
       " 'type': 7,\n",
       " 'metadata': {'mid': '/m/01br3b',\n",
       "  'wikipedia_url': 'https://en.wikipedia.org/wiki/Coronary_artery_bypass_surgery'},\n",
       " 'salience': 0.14077303,\n",
       " 'mentions': [{'text': {'content': 'Coronary Artery Bypass Grafting',\n",
       "    'beginOffset': -1},\n",
       "   'type': 1},\n",
       "  {'text': {'content': 'CABG', 'beginOffset': -1}, 'type': 2},\n",
       "  {'text': {'content': 'CABG', 'beginOffset': -1}, 'type': 1},\n",
       "  {'text': {'content': 'CABG', 'beginOffset': -1}, 'type': 1},\n",
       "  {'text': {'content': 'CABG', 'beginOffset': -1}, 'type': 2},\n",
       "  {'text': {'content': 'CABG', 'beginOffset': -1}, 'type': 1},\n",
       "  {'text': {'content': 'CABG', 'beginOffset': -1}, 'type': 1},\n",
       "  {'text': {'content': 'CABG', 'beginOffset': -1}, 'type': 1},\n",
       "  {'text': {'content': 'Coronary Artery Bypass Grafting', 'beginOffset': -1},\n",
       "   'type': 1},\n",
       "  {'text': {'content': 'procedure', 'beginOffset': -1}, 'type': 2},\n",
       "  {'text': {'content': 'CABG', 'beginOffset': -1}, 'type': 1},\n",
       "  {'text': {'content': 'CABG', 'beginOffset': -1}, 'type': 1},\n",
       "  {'text': {'content': 'CABG', 'beginOffset': -1}, 'type': 1},\n",
       "  {'text': {'content': 'CABG', 'beginOffset': -1}, 'type': 1},\n",
       "  {'text': {'content': 'CABG', 'beginOffset': -1}, 'type': 1},\n",
       "  {'text': {'content': 'CABG', 'beginOffset': -1}, 'type': 1},\n",
       "  {'text': {'content': 'CABG', 'beginOffset': -1}, 'type': 2},\n",
       "  {'text': {'content': 'MICS CABG', 'beginOffset': -1}, 'type': 1},\n",
       "  {'text': {'content': 'CABG', 'beginOffset': -1}, 'type': 1},\n",
       "  {'text': {'content': 'Coronary Bypass Surgery', 'beginOffset': -1},\n",
       "   'type': 1},\n",
       "  {'text': {'content': 'Coronary Bypass Surgery', 'beginOffset': -1},\n",
       "   'type': 1},\n",
       "  {'text': {'content': 'Coronary Bypass Surgery', 'beginOffset': -1},\n",
       "   'type': 1},\n",
       "  {'text': {'content': 'Coronary Bypass Surgery', 'beginOffset': -1},\n",
       "   'type': 1}]}"
      ]
     },
     "execution_count": 27,
     "metadata": {},
     "output_type": "execute_result"
    }
   ],
   "source": [
    "result['entities'][0]"
   ]
  },
  {
   "cell_type": "code",
   "execution_count": null,
   "metadata": {},
   "outputs": [],
   "source": []
  }
 ],
 "metadata": {
  "kernelspec": {
   "display_name": "Python 3.8.10 64-bit",
   "language": "python",
   "name": "python3"
  },
  "language_info": {
   "codemirror_mode": {
    "name": "ipython",
    "version": 3
   },
   "file_extension": ".py",
   "mimetype": "text/x-python",
   "name": "python",
   "nbconvert_exporter": "python",
   "pygments_lexer": "ipython3",
   "version": "3.8.10"
  },
  "orig_nbformat": 4,
  "vscode": {
   "interpreter": {
    "hash": "916dbcbb3f70747c44a77c7bcd40155683ae19c65e1c03b4aa3499c5328201f1"
   }
  }
 },
 "nbformat": 4,
 "nbformat_minor": 2
}
